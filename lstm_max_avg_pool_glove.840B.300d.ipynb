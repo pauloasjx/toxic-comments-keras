{
 "cells": [
  {
   "cell_type": "code",
   "execution_count": 18,
   "metadata": {},
   "outputs": [],
   "source": [
    "from train import *"
   ]
  },
  {
   "cell_type": "code",
   "execution_count": 19,
   "metadata": {},
   "outputs": [],
   "source": [
    "from archs.lstm_max_avg_pool import arch"
   ]
  },
  {
   "cell_type": "code",
   "execution_count": 20,
   "metadata": {},
   "outputs": [],
   "source": [
    "MAX_FEATURES = 10000\n",
    "MAX_LENGTH = 150\n",
    "EMBED_SIZE = 300"
   ]
  },
  {
   "cell_type": "code",
   "execution_count": 4,
   "metadata": {},
   "outputs": [],
   "source": [
    "toxic_comments = ToxicComments(\"data/train.csv\", \"data/test.csv\")"
   ]
  },
  {
   "cell_type": "code",
   "execution_count": 10,
   "metadata": {},
   "outputs": [],
   "source": [
    "cache = !ls cache"
   ]
  },
  {
   "cell_type": "code",
   "execution_count": 21,
   "metadata": {},
   "outputs": [],
   "source": [
    "import numpy as np\n",
    "\n",
    "if(\"glove.840B.300d.dat\" not in cache):\n",
    "    tokenizer = toxic_comments.tokenize(MAX_FEATURES, MAX_LENGTH, EMBED_SIZE)\n",
    "    EMBEDDING_MATRIX = toxic_comments.make_embedding_matrix(\n",
    "        tokenizer, \"data/glove.840B.300d.txt\", MAX_FEATURES, EMBED_SIZE\n",
    "    )\n",
    "    EMBEDDING_MATRIX.dump(\"cache/glove.840B.300d.dat\")\n",
    "else:\n",
    "    EMBEDDING_MATRIX = np.load(\"cache/glove.840B.300d.dat\")"
   ]
  },
  {
   "cell_type": "code",
   "execution_count": 22,
   "metadata": {},
   "outputs": [],
   "source": [
    "_arch = arch(MAX_LENGTH, MAX_FEATURES, EMBED_SIZE, EMBEDDING_MATRIX)"
   ]
  },
  {
   "cell_type": "code",
   "execution_count": 23,
   "metadata": {
    "scrolled": false
   },
   "outputs": [
    {
     "name": "stderr",
     "output_type": "stream",
     "text": [
      "/home/paperspace/anaconda3/envs/fastai/lib/python3.6/site-packages/sklearn/model_selection/_split.py:2026: FutureWarning: From version 0.21, test_size will always complement train_size unless both are specified.\n",
      "  FutureWarning)\n"
     ]
    },
    {
     "name": "stdout",
     "output_type": "stream",
     "text": [
      "Train on 143613 samples, validate on 15958 samples\n",
      "Epoch 1/1\n",
      "143613/143613 [==============================] - 246s 2ms/step - loss: 0.0642 - acc: 0.9780 - val_loss: 0.0473 - val_acc: 0.9825\n",
      "\n",
      "Epoch 00001: val_acc improved from -inf to 0.98254, saving model to best_model.hdf5\n"
     ]
    }
   ],
   "source": [
    "model = train(\n",
    "    _arch, toxic_comments.X_train, toxic_comments.y_train, batch_size=128, epochs=1\n",
    ")"
   ]
  },
  {
   "cell_type": "code",
   "execution_count": 24,
   "metadata": {},
   "outputs": [
    {
     "name": "stdout",
     "output_type": "stream",
     "text": [
      "153164/153164 [==============================] - 35s 227us/step\n"
     ]
    }
   ],
   "source": [
    "y_pred = test(model, toxic_comments.X_test)"
   ]
  },
  {
   "cell_type": "code",
   "execution_count": 26,
   "metadata": {},
   "outputs": [
    {
     "data": {
      "text/plain": [
       "array([[9.87632036e-01, 5.43418288e-01, 8.90919805e-01, 2.00425327e-01,\n",
       "        8.84848952e-01, 3.24072093e-01],\n",
       "       [2.91761919e-03, 1.61450607e-05, 3.57968995e-04, 5.42251546e-05,\n",
       "        5.08338679e-04, 7.02932084e-05],\n",
       "       [7.85122253e-03, 8.42202935e-05, 1.21976424e-03, 2.09533770e-04,\n",
       "        1.66357891e-03, 3.98884789e-04],\n",
       "       [1.53405592e-03, 2.68106896e-06, 1.32398403e-04, 1.49961625e-05,\n",
       "        1.80482777e-04, 2.63513830e-05],\n",
       "       [1.99413840e-02, 4.24446538e-04, 3.62688233e-03, 1.30955200e-03,\n",
       "        4.73628566e-03, 8.61768960e-04]], dtype=float32)"
      ]
     },
     "execution_count": 26,
     "metadata": {},
     "output_type": "execute_result"
    }
   ],
   "source": [
    "y_pred[:5]"
   ]
  },
  {
   "cell_type": "code",
   "execution_count": null,
   "metadata": {},
   "outputs": [],
   "source": []
  }
 ],
 "metadata": {
  "kernelspec": {
   "display_name": "Python 3",
   "language": "python",
   "name": "python3"
  },
  "language_info": {
   "codemirror_mode": {
    "name": "ipython",
    "version": 3
   },
   "file_extension": ".py",
   "mimetype": "text/x-python",
   "name": "python",
   "nbconvert_exporter": "python",
   "pygments_lexer": "ipython3",
   "version": "3.6.6"
  }
 },
 "nbformat": 4,
 "nbformat_minor": 2
}
