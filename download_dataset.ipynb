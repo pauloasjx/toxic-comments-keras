{
 "cells": [
  {
   "cell_type": "code",
   "execution_count": 1,
   "metadata": {},
   "outputs": [
    {
     "name": "stdout",
     "output_type": "stream",
     "text": [
      "Warning: Looks like you're using an outdated API Version, please consider updating (server 1.4.7.1 / client 1.3.11.1)\n",
      "Downloading sample_submission.csv.zip to data\n",
      "  0%|                                               | 0.00/1.39M [00:00<?, ?B/s]\n",
      "100%|██████████████████████████████████████| 1.39M/1.39M [00:00<00:00, 29.8MB/s]\n",
      "Downloading test.csv.zip to data\n",
      " 80%|██████████████████████████████▍       | 19.0M/23.8M [00:00<00:00, 19.2MB/s]\n",
      "100%|██████████████████████████████████████| 23.8M/23.8M [00:00<00:00, 29.1MB/s]\n",
      "Downloading train.csv.zip to data\n",
      "100%|██████████████████████████████████████| 26.7M/26.7M [00:01<00:00, 23.5MB/s]\n",
      "\n",
      "Downloading test_labels.csv.zip to data\n",
      "  0%|                                               | 0.00/1.46M [00:00<?, ?B/s]\n",
      "100%|██████████████████████████████████████| 1.46M/1.46M [00:00<00:00, 60.6MB/s]\n"
     ]
    }
   ],
   "source": [
    "data_dir = !ls data\n",
    "if(len(data_dir) <= 0):\n",
    "    !kaggle competitions download -c jigsaw-toxic-comment-classification-challenge -p data"
   ]
  },
  {
   "cell_type": "code",
   "execution_count": 2,
   "metadata": {},
   "outputs": [
    {
     "name": "stdout",
     "output_type": "stream",
     "text": [
      "Archive:  data/sample_submission.csv.zip\n",
      "  inflating: data/sample_submission.csv  \n",
      "Archive:  data/test.csv.zip\n",
      "  inflating: data/test.csv           \n",
      "Archive:  data/test_labels.csv.zip\n",
      "  inflating: data/test_labels.csv    \n",
      "Archive:  data/train.csv.zip\n",
      "  inflating: data/train.csv          \n"
     ]
    }
   ],
   "source": [
    "zip_files = !ls data/*.zip\n",
    "if(len(zip_files) > 0):\n",
    "    for zip_file in zip_files:\n",
    "        !unzip $zip_file -d data\n",
    "    !rm -rf data/*.zip"
   ]
  },
  {
   "cell_type": "code",
   "execution_count": null,
   "metadata": {},
   "outputs": [],
   "source": []
  }
 ],
 "metadata": {
  "kernelspec": {
   "display_name": "Python 3",
   "language": "python",
   "name": "python3"
  },
  "language_info": {
   "codemirror_mode": {
    "name": "ipython",
    "version": 3
   },
   "file_extension": ".py",
   "mimetype": "text/x-python",
   "name": "python",
   "nbconvert_exporter": "python",
   "pygments_lexer": "ipython3",
   "version": "3.6.6"
  }
 },
 "nbformat": 4,
 "nbformat_minor": 2
}
